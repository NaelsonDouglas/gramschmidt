{
 "cells": [
  {
   "cell_type": "code",
   "execution_count": 3,
   "metadata": {},
   "outputs": [
    {
     "name": "stderr",
     "output_type": "stream",
     "text": [
      "\n",
      "WARNING: deprecated syntax \"for (...)\" at In[3]:16.\n",
      "Use \"for ...\" instead.\n",
      "\n",
      "WARNING: deprecated syntax \"for (...)\" at In[3]:34.\n",
      "Use \"for ...\" instead.\n",
      "WARNING: Method definition projection(Any, Any) in module Main at In[1]:5 overwritten at In[3]:5.\n",
      "WARNING: Method definition calculateV(Any, Any, Any, Any) in module Main at In[1]:10 overwritten at In[3]:10.\n",
      "WARNING: Method definition calculateG(Any) in module Main at In[1]:24 overwritten at In[3]:24.\n",
      "WARNING: Method definition gramschimidt(Any) in module Main at In[1]:29 overwritten at In[3]:29.\n"
     ]
    },
    {
     "data": {
      "text/plain": [
       "gramschimidt (generic function with 1 method)"
      ]
     },
     "execution_count": 3,
     "metadata": {},
     "output_type": "execute_result"
    }
   ],
   "source": [
    "base = [1.0 0 0;0 1 1;0 1 2]\n",
    "\n",
    "\n",
    "function projection(ui,gi)\n",
    "    vec(dot(vec(ui),vec(gi))*gi)\n",
    "end\n",
    "\n",
    "\n",
    "function calculateV(ui,position,V,G)\n",
    "    if (position == 1)\n",
    "        return vec(ui)/norm(vec(ui))\n",
    "    end\n",
    "\n",
    "    v= vec(ui)\n",
    "    for (i=1:position-1)\n",
    "        v= v -  vec(projection(ui,vec(G[i,:])))\n",
    "    end\n",
    "\n",
    "    return v\n",
    "end\n",
    "\n",
    "\n",
    "function calculateG(vi)\n",
    "    map((x)->x/norm(vi),vi)\n",
    "end\n",
    "\n",
    "\n",
    "function gramschimidt(b)\n",
    "    base = float(b)\n",
    "    G=zeros(base)\n",
    "    V=zeros(base)\n",
    "\n",
    "    for(i=1:length(base[:,1]))\n",
    "        V[i,:] = calculateV(base[i,:],i,V,G)\n",
    "        G[i,:] = calculateG(V[i,:])\n",
    "    end\n",
    "    return G\n",
    "end\n",
    "\n",
    "\n",
    "\n",
    "\n",
    "\n",
    "\n",
    "\n",
    "\n",
    "\n",
    "\n",
    "\n",
    "\n",
    "\n"
   ]
  },
  {
   "cell_type": "code",
   "execution_count": null,
   "metadata": {},
   "outputs": [],
   "source": []
  },
  {
   "cell_type": "code",
   "execution_count": 2,
   "metadata": {},
   "outputs": [
    {
     "data": {
      "text/plain": [
       "1×3 Array{Float64,2}:\n",
       " 0.267261  0.534522  0.801784"
      ]
     },
     "execution_count": 2,
     "metadata": {},
     "output_type": "execute_result"
    }
   ],
   "source": [
    "gramschimidt([1 2 3])"
   ]
  },
  {
   "cell_type": "code",
   "execution_count": null,
   "metadata": {},
   "outputs": [],
   "source": []
  }
 ],
 "metadata": {
  "kernelspec": {
   "display_name": "Julia 0.5.2",
   "language": "julia",
   "name": "julia-0.5"
  },
  "language_info": {
   "file_extension": ".jl",
   "mimetype": "application/julia",
   "name": "julia",
   "version": "0.5.2"
  }
 },
 "nbformat": 4,
 "nbformat_minor": 2
}
